{
  "nbformat": 4,
  "nbformat_minor": 0,
  "metadata": {
    "colab": {
      "provenance": []
    },
    "kernelspec": {
      "name": "python3",
      "display_name": "Python 3"
    },
    "language_info": {
      "name": "python"
    },
    "widgets": {
      "application/vnd.jupyter.widget-state+json": {
        "a9e733e31b6a476183e2285d6dbe82a8": {
          "model_module": "@jupyter-widgets/controls",
          "model_name": "HBoxModel",
          "model_module_version": "1.5.0",
          "state": {
            "_dom_classes": [],
            "_model_module": "@jupyter-widgets/controls",
            "_model_module_version": "1.5.0",
            "_model_name": "HBoxModel",
            "_view_count": null,
            "_view_module": "@jupyter-widgets/controls",
            "_view_module_version": "1.5.0",
            "_view_name": "HBoxView",
            "box_style": "",
            "children": [
              "IPY_MODEL_2b8889cbc685436da056a0aa69ecb362",
              "IPY_MODEL_c46d445211a74dcd93ef4251833e069e",
              "IPY_MODEL_215a7398db6548ea93f7e700d8bf786c"
            ],
            "layout": "IPY_MODEL_c8381cdb92ec4a6ab877eac087528846"
          }
        },
        "2b8889cbc685436da056a0aa69ecb362": {
          "model_module": "@jupyter-widgets/controls",
          "model_name": "HTMLModel",
          "model_module_version": "1.5.0",
          "state": {
            "_dom_classes": [],
            "_model_module": "@jupyter-widgets/controls",
            "_model_module_version": "1.5.0",
            "_model_name": "HTMLModel",
            "_view_count": null,
            "_view_module": "@jupyter-widgets/controls",
            "_view_module_version": "1.5.0",
            "_view_name": "HTMLView",
            "description": "",
            "description_tooltip": null,
            "layout": "IPY_MODEL_824b9c48993e4ee7843909e600c9c137",
            "placeholder": "​",
            "style": "IPY_MODEL_82bbe801175a487f9411833b1b14083c",
            "value": "100%"
          }
        },
        "c46d445211a74dcd93ef4251833e069e": {
          "model_module": "@jupyter-widgets/controls",
          "model_name": "FloatProgressModel",
          "model_module_version": "1.5.0",
          "state": {
            "_dom_classes": [],
            "_model_module": "@jupyter-widgets/controls",
            "_model_module_version": "1.5.0",
            "_model_name": "FloatProgressModel",
            "_view_count": null,
            "_view_module": "@jupyter-widgets/controls",
            "_view_module_version": "1.5.0",
            "_view_name": "ProgressView",
            "bar_style": "success",
            "description": "",
            "description_tooltip": null,
            "layout": "IPY_MODEL_cdaeb70465c6477591e4278c6c00f92b",
            "max": 98,
            "min": 0,
            "orientation": "horizontal",
            "style": "IPY_MODEL_cdcf05778ca34f43a30acfe008c1a04b",
            "value": 98
          }
        },
        "215a7398db6548ea93f7e700d8bf786c": {
          "model_module": "@jupyter-widgets/controls",
          "model_name": "HTMLModel",
          "model_module_version": "1.5.0",
          "state": {
            "_dom_classes": [],
            "_model_module": "@jupyter-widgets/controls",
            "_model_module_version": "1.5.0",
            "_model_name": "HTMLModel",
            "_view_count": null,
            "_view_module": "@jupyter-widgets/controls",
            "_view_module_version": "1.5.0",
            "_view_name": "HTMLView",
            "description": "",
            "description_tooltip": null,
            "layout": "IPY_MODEL_84d04396b8a7474eb3c2a250808b7c27",
            "placeholder": "​",
            "style": "IPY_MODEL_0d9653f453f54b73a2050816f463c010",
            "value": " 98/98 [01:09&lt;00:00,  1.47it/s]"
          }
        },
        "c8381cdb92ec4a6ab877eac087528846": {
          "model_module": "@jupyter-widgets/base",
          "model_name": "LayoutModel",
          "model_module_version": "1.2.0",
          "state": {
            "_model_module": "@jupyter-widgets/base",
            "_model_module_version": "1.2.0",
            "_model_name": "LayoutModel",
            "_view_count": null,
            "_view_module": "@jupyter-widgets/base",
            "_view_module_version": "1.2.0",
            "_view_name": "LayoutView",
            "align_content": null,
            "align_items": null,
            "align_self": null,
            "border": null,
            "bottom": null,
            "display": null,
            "flex": null,
            "flex_flow": null,
            "grid_area": null,
            "grid_auto_columns": null,
            "grid_auto_flow": null,
            "grid_auto_rows": null,
            "grid_column": null,
            "grid_gap": null,
            "grid_row": null,
            "grid_template_areas": null,
            "grid_template_columns": null,
            "grid_template_rows": null,
            "height": null,
            "justify_content": null,
            "justify_items": null,
            "left": null,
            "margin": null,
            "max_height": null,
            "max_width": null,
            "min_height": null,
            "min_width": null,
            "object_fit": null,
            "object_position": null,
            "order": null,
            "overflow": null,
            "overflow_x": null,
            "overflow_y": null,
            "padding": null,
            "right": null,
            "top": null,
            "visibility": null,
            "width": null
          }
        },
        "824b9c48993e4ee7843909e600c9c137": {
          "model_module": "@jupyter-widgets/base",
          "model_name": "LayoutModel",
          "model_module_version": "1.2.0",
          "state": {
            "_model_module": "@jupyter-widgets/base",
            "_model_module_version": "1.2.0",
            "_model_name": "LayoutModel",
            "_view_count": null,
            "_view_module": "@jupyter-widgets/base",
            "_view_module_version": "1.2.0",
            "_view_name": "LayoutView",
            "align_content": null,
            "align_items": null,
            "align_self": null,
            "border": null,
            "bottom": null,
            "display": null,
            "flex": null,
            "flex_flow": null,
            "grid_area": null,
            "grid_auto_columns": null,
            "grid_auto_flow": null,
            "grid_auto_rows": null,
            "grid_column": null,
            "grid_gap": null,
            "grid_row": null,
            "grid_template_areas": null,
            "grid_template_columns": null,
            "grid_template_rows": null,
            "height": null,
            "justify_content": null,
            "justify_items": null,
            "left": null,
            "margin": null,
            "max_height": null,
            "max_width": null,
            "min_height": null,
            "min_width": null,
            "object_fit": null,
            "object_position": null,
            "order": null,
            "overflow": null,
            "overflow_x": null,
            "overflow_y": null,
            "padding": null,
            "right": null,
            "top": null,
            "visibility": null,
            "width": null
          }
        },
        "82bbe801175a487f9411833b1b14083c": {
          "model_module": "@jupyter-widgets/controls",
          "model_name": "DescriptionStyleModel",
          "model_module_version": "1.5.0",
          "state": {
            "_model_module": "@jupyter-widgets/controls",
            "_model_module_version": "1.5.0",
            "_model_name": "DescriptionStyleModel",
            "_view_count": null,
            "_view_module": "@jupyter-widgets/base",
            "_view_module_version": "1.2.0",
            "_view_name": "StyleView",
            "description_width": ""
          }
        },
        "cdaeb70465c6477591e4278c6c00f92b": {
          "model_module": "@jupyter-widgets/base",
          "model_name": "LayoutModel",
          "model_module_version": "1.2.0",
          "state": {
            "_model_module": "@jupyter-widgets/base",
            "_model_module_version": "1.2.0",
            "_model_name": "LayoutModel",
            "_view_count": null,
            "_view_module": "@jupyter-widgets/base",
            "_view_module_version": "1.2.0",
            "_view_name": "LayoutView",
            "align_content": null,
            "align_items": null,
            "align_self": null,
            "border": null,
            "bottom": null,
            "display": null,
            "flex": null,
            "flex_flow": null,
            "grid_area": null,
            "grid_auto_columns": null,
            "grid_auto_flow": null,
            "grid_auto_rows": null,
            "grid_column": null,
            "grid_gap": null,
            "grid_row": null,
            "grid_template_areas": null,
            "grid_template_columns": null,
            "grid_template_rows": null,
            "height": null,
            "justify_content": null,
            "justify_items": null,
            "left": null,
            "margin": null,
            "max_height": null,
            "max_width": null,
            "min_height": null,
            "min_width": null,
            "object_fit": null,
            "object_position": null,
            "order": null,
            "overflow": null,
            "overflow_x": null,
            "overflow_y": null,
            "padding": null,
            "right": null,
            "top": null,
            "visibility": null,
            "width": null
          }
        },
        "cdcf05778ca34f43a30acfe008c1a04b": {
          "model_module": "@jupyter-widgets/controls",
          "model_name": "ProgressStyleModel",
          "model_module_version": "1.5.0",
          "state": {
            "_model_module": "@jupyter-widgets/controls",
            "_model_module_version": "1.5.0",
            "_model_name": "ProgressStyleModel",
            "_view_count": null,
            "_view_module": "@jupyter-widgets/base",
            "_view_module_version": "1.2.0",
            "_view_name": "StyleView",
            "bar_color": null,
            "description_width": ""
          }
        },
        "84d04396b8a7474eb3c2a250808b7c27": {
          "model_module": "@jupyter-widgets/base",
          "model_name": "LayoutModel",
          "model_module_version": "1.2.0",
          "state": {
            "_model_module": "@jupyter-widgets/base",
            "_model_module_version": "1.2.0",
            "_model_name": "LayoutModel",
            "_view_count": null,
            "_view_module": "@jupyter-widgets/base",
            "_view_module_version": "1.2.0",
            "_view_name": "LayoutView",
            "align_content": null,
            "align_items": null,
            "align_self": null,
            "border": null,
            "bottom": null,
            "display": null,
            "flex": null,
            "flex_flow": null,
            "grid_area": null,
            "grid_auto_columns": null,
            "grid_auto_flow": null,
            "grid_auto_rows": null,
            "grid_column": null,
            "grid_gap": null,
            "grid_row": null,
            "grid_template_areas": null,
            "grid_template_columns": null,
            "grid_template_rows": null,
            "height": null,
            "justify_content": null,
            "justify_items": null,
            "left": null,
            "margin": null,
            "max_height": null,
            "max_width": null,
            "min_height": null,
            "min_width": null,
            "object_fit": null,
            "object_position": null,
            "order": null,
            "overflow": null,
            "overflow_x": null,
            "overflow_y": null,
            "padding": null,
            "right": null,
            "top": null,
            "visibility": null,
            "width": null
          }
        },
        "0d9653f453f54b73a2050816f463c010": {
          "model_module": "@jupyter-widgets/controls",
          "model_name": "DescriptionStyleModel",
          "model_module_version": "1.5.0",
          "state": {
            "_model_module": "@jupyter-widgets/controls",
            "_model_module_version": "1.5.0",
            "_model_name": "DescriptionStyleModel",
            "_view_count": null,
            "_view_module": "@jupyter-widgets/base",
            "_view_module_version": "1.2.0",
            "_view_name": "StyleView",
            "description_width": ""
          }
        },
        "ad106889f44c4edf930937dfd0977f93": {
          "model_module": "@jupyter-widgets/controls",
          "model_name": "HBoxModel",
          "model_module_version": "1.5.0",
          "state": {
            "_dom_classes": [],
            "_model_module": "@jupyter-widgets/controls",
            "_model_module_version": "1.5.0",
            "_model_name": "HBoxModel",
            "_view_count": null,
            "_view_module": "@jupyter-widgets/controls",
            "_view_module_version": "1.5.0",
            "_view_name": "HBoxView",
            "box_style": "",
            "children": [
              "IPY_MODEL_cc3e24b3fc784505b27cd37917cea1e6",
              "IPY_MODEL_6d990161fd734ec488265851ade4a96f",
              "IPY_MODEL_fc275e9b36624f55a0581f1373df222f"
            ],
            "layout": "IPY_MODEL_1603752f27cb45aab2ee565c894ff6ca"
          }
        },
        "cc3e24b3fc784505b27cd37917cea1e6": {
          "model_module": "@jupyter-widgets/controls",
          "model_name": "HTMLModel",
          "model_module_version": "1.5.0",
          "state": {
            "_dom_classes": [],
            "_model_module": "@jupyter-widgets/controls",
            "_model_module_version": "1.5.0",
            "_model_name": "HTMLModel",
            "_view_count": null,
            "_view_module": "@jupyter-widgets/controls",
            "_view_module_version": "1.5.0",
            "_view_name": "HTMLView",
            "description": "",
            "description_tooltip": null,
            "layout": "IPY_MODEL_6990b1d9b2ea42469a15b690dec1aac1",
            "placeholder": "​",
            "style": "IPY_MODEL_3abf89f3f2804b359f1385883abbb516",
            "value": ""
          }
        },
        "6d990161fd734ec488265851ade4a96f": {
          "model_module": "@jupyter-widgets/controls",
          "model_name": "FloatProgressModel",
          "model_module_version": "1.5.0",
          "state": {
            "_dom_classes": [],
            "_model_module": "@jupyter-widgets/controls",
            "_model_module_version": "1.5.0",
            "_model_name": "FloatProgressModel",
            "_view_count": null,
            "_view_module": "@jupyter-widgets/controls",
            "_view_module_version": "1.5.0",
            "_view_name": "ProgressView",
            "bar_style": "success",
            "description": "",
            "description_tooltip": null,
            "layout": "IPY_MODEL_cdf918d17a004e2f8e5fe62c8b5d18b3",
            "max": 1,
            "min": 0,
            "orientation": "horizontal",
            "style": "IPY_MODEL_053c0c2d807147ac893d6753e83e0f7d",
            "value": 1
          }
        },
        "fc275e9b36624f55a0581f1373df222f": {
          "model_module": "@jupyter-widgets/controls",
          "model_name": "HTMLModel",
          "model_module_version": "1.5.0",
          "state": {
            "_dom_classes": [],
            "_model_module": "@jupyter-widgets/controls",
            "_model_module_version": "1.5.0",
            "_model_name": "HTMLModel",
            "_view_count": null,
            "_view_module": "@jupyter-widgets/controls",
            "_view_module_version": "1.5.0",
            "_view_name": "HTMLView",
            "description": "",
            "description_tooltip": null,
            "layout": "IPY_MODEL_c07d934c884d45ea820361099cd7dfa8",
            "placeholder": "​",
            "style": "IPY_MODEL_d19410f4521c4e0ba5c91926385ebbb3",
            "value": " 5/? [00:03&lt;00:00,  1.54it/s]"
          }
        },
        "1603752f27cb45aab2ee565c894ff6ca": {
          "model_module": "@jupyter-widgets/base",
          "model_name": "LayoutModel",
          "model_module_version": "1.2.0",
          "state": {
            "_model_module": "@jupyter-widgets/base",
            "_model_module_version": "1.2.0",
            "_model_name": "LayoutModel",
            "_view_count": null,
            "_view_module": "@jupyter-widgets/base",
            "_view_module_version": "1.2.0",
            "_view_name": "LayoutView",
            "align_content": null,
            "align_items": null,
            "align_self": null,
            "border": null,
            "bottom": null,
            "display": null,
            "flex": null,
            "flex_flow": null,
            "grid_area": null,
            "grid_auto_columns": null,
            "grid_auto_flow": null,
            "grid_auto_rows": null,
            "grid_column": null,
            "grid_gap": null,
            "grid_row": null,
            "grid_template_areas": null,
            "grid_template_columns": null,
            "grid_template_rows": null,
            "height": null,
            "justify_content": null,
            "justify_items": null,
            "left": null,
            "margin": null,
            "max_height": null,
            "max_width": null,
            "min_height": null,
            "min_width": null,
            "object_fit": null,
            "object_position": null,
            "order": null,
            "overflow": null,
            "overflow_x": null,
            "overflow_y": null,
            "padding": null,
            "right": null,
            "top": null,
            "visibility": null,
            "width": null
          }
        },
        "6990b1d9b2ea42469a15b690dec1aac1": {
          "model_module": "@jupyter-widgets/base",
          "model_name": "LayoutModel",
          "model_module_version": "1.2.0",
          "state": {
            "_model_module": "@jupyter-widgets/base",
            "_model_module_version": "1.2.0",
            "_model_name": "LayoutModel",
            "_view_count": null,
            "_view_module": "@jupyter-widgets/base",
            "_view_module_version": "1.2.0",
            "_view_name": "LayoutView",
            "align_content": null,
            "align_items": null,
            "align_self": null,
            "border": null,
            "bottom": null,
            "display": null,
            "flex": null,
            "flex_flow": null,
            "grid_area": null,
            "grid_auto_columns": null,
            "grid_auto_flow": null,
            "grid_auto_rows": null,
            "grid_column": null,
            "grid_gap": null,
            "grid_row": null,
            "grid_template_areas": null,
            "grid_template_columns": null,
            "grid_template_rows": null,
            "height": null,
            "justify_content": null,
            "justify_items": null,
            "left": null,
            "margin": null,
            "max_height": null,
            "max_width": null,
            "min_height": null,
            "min_width": null,
            "object_fit": null,
            "object_position": null,
            "order": null,
            "overflow": null,
            "overflow_x": null,
            "overflow_y": null,
            "padding": null,
            "right": null,
            "top": null,
            "visibility": null,
            "width": null
          }
        },
        "3abf89f3f2804b359f1385883abbb516": {
          "model_module": "@jupyter-widgets/controls",
          "model_name": "DescriptionStyleModel",
          "model_module_version": "1.5.0",
          "state": {
            "_model_module": "@jupyter-widgets/controls",
            "_model_module_version": "1.5.0",
            "_model_name": "DescriptionStyleModel",
            "_view_count": null,
            "_view_module": "@jupyter-widgets/base",
            "_view_module_version": "1.2.0",
            "_view_name": "StyleView",
            "description_width": ""
          }
        },
        "cdf918d17a004e2f8e5fe62c8b5d18b3": {
          "model_module": "@jupyter-widgets/base",
          "model_name": "LayoutModel",
          "model_module_version": "1.2.0",
          "state": {
            "_model_module": "@jupyter-widgets/base",
            "_model_module_version": "1.2.0",
            "_model_name": "LayoutModel",
            "_view_count": null,
            "_view_module": "@jupyter-widgets/base",
            "_view_module_version": "1.2.0",
            "_view_name": "LayoutView",
            "align_content": null,
            "align_items": null,
            "align_self": null,
            "border": null,
            "bottom": null,
            "display": null,
            "flex": null,
            "flex_flow": null,
            "grid_area": null,
            "grid_auto_columns": null,
            "grid_auto_flow": null,
            "grid_auto_rows": null,
            "grid_column": null,
            "grid_gap": null,
            "grid_row": null,
            "grid_template_areas": null,
            "grid_template_columns": null,
            "grid_template_rows": null,
            "height": null,
            "justify_content": null,
            "justify_items": null,
            "left": null,
            "margin": null,
            "max_height": null,
            "max_width": null,
            "min_height": null,
            "min_width": null,
            "object_fit": null,
            "object_position": null,
            "order": null,
            "overflow": null,
            "overflow_x": null,
            "overflow_y": null,
            "padding": null,
            "right": null,
            "top": null,
            "visibility": null,
            "width": "20px"
          }
        },
        "053c0c2d807147ac893d6753e83e0f7d": {
          "model_module": "@jupyter-widgets/controls",
          "model_name": "ProgressStyleModel",
          "model_module_version": "1.5.0",
          "state": {
            "_model_module": "@jupyter-widgets/controls",
            "_model_module_version": "1.5.0",
            "_model_name": "ProgressStyleModel",
            "_view_count": null,
            "_view_module": "@jupyter-widgets/base",
            "_view_module_version": "1.2.0",
            "_view_name": "StyleView",
            "bar_color": null,
            "description_width": ""
          }
        },
        "c07d934c884d45ea820361099cd7dfa8": {
          "model_module": "@jupyter-widgets/base",
          "model_name": "LayoutModel",
          "model_module_version": "1.2.0",
          "state": {
            "_model_module": "@jupyter-widgets/base",
            "_model_module_version": "1.2.0",
            "_model_name": "LayoutModel",
            "_view_count": null,
            "_view_module": "@jupyter-widgets/base",
            "_view_module_version": "1.2.0",
            "_view_name": "LayoutView",
            "align_content": null,
            "align_items": null,
            "align_self": null,
            "border": null,
            "bottom": null,
            "display": null,
            "flex": null,
            "flex_flow": null,
            "grid_area": null,
            "grid_auto_columns": null,
            "grid_auto_flow": null,
            "grid_auto_rows": null,
            "grid_column": null,
            "grid_gap": null,
            "grid_row": null,
            "grid_template_areas": null,
            "grid_template_columns": null,
            "grid_template_rows": null,
            "height": null,
            "justify_content": null,
            "justify_items": null,
            "left": null,
            "margin": null,
            "max_height": null,
            "max_width": null,
            "min_height": null,
            "min_width": null,
            "object_fit": null,
            "object_position": null,
            "order": null,
            "overflow": null,
            "overflow_x": null,
            "overflow_y": null,
            "padding": null,
            "right": null,
            "top": null,
            "visibility": null,
            "width": null
          }
        },
        "d19410f4521c4e0ba5c91926385ebbb3": {
          "model_module": "@jupyter-widgets/controls",
          "model_name": "DescriptionStyleModel",
          "model_module_version": "1.5.0",
          "state": {
            "_model_module": "@jupyter-widgets/controls",
            "_model_module_version": "1.5.0",
            "_model_name": "DescriptionStyleModel",
            "_view_count": null,
            "_view_module": "@jupyter-widgets/base",
            "_view_module_version": "1.2.0",
            "_view_name": "StyleView",
            "description_width": ""
          }
        }
      }
    }
  },
  "cells": [
    {
      "cell_type": "code",
      "execution_count": null,
      "metadata": {
        "id": "um0xy5A0MJ6n"
      },
      "outputs": [],
      "source": [
        "from sklearn.feature_extraction.text import TfidfVectorizer"
      ]
    },
    {
      "cell_type": "code",
      "source": [
        "targets = []\n",
        "docs = []\n",
        "with open('movie-pang02.csv') as movies:\n",
        "    for line in movies.readlines()[1:]:\n",
        "        line_list = line.split(',')\n",
        "        targets.append(line_list[0])\n",
        "        docs.append(line_list[1].strip())\n"
      ],
      "metadata": {
        "id": "y1CHIYnXNKaF"
      },
      "execution_count": null,
      "outputs": []
    },
    {
      "cell_type": "code",
      "source": [
        "targets =[1. if t==\"Pos\" else 0. for t in targets]\n"
      ],
      "metadata": {
        "id": "uN0Bb73WNbjK"
      },
      "execution_count": null,
      "outputs": []
    },
    {
      "cell_type": "code",
      "source": [
        "targets[-4:]"
      ],
      "metadata": {
        "colab": {
          "base_uri": "https://localhost:8080/"
        },
        "id": "THotbIQoHz4Z",
        "outputId": "9ac0b3c5-c32b-4b48-d72e-9a98741025fc"
      },
      "execution_count": null,
      "outputs": [
        {
          "output_type": "execute_result",
          "data": {
            "text/plain": [
              "[0.0, 0.0, 0.0, 0.0]"
            ]
          },
          "metadata": {},
          "execution_count": 18
        }
      ]
    },
    {
      "cell_type": "markdown",
      "source": [
        "# Split into train and text"
      ],
      "metadata": {
        "id": "eavAHQseH_4s"
      }
    },
    {
      "cell_type": "code",
      "source": [
        "from sklearn.model_selection import train_test_split\n",
        "\n",
        "\n",
        "docs_train, docs_test, y_train, y_test = train_test_split(docs,\n",
        "                                                          targets,\n",
        "                                                          random_state=123,\n",
        "                                                          test_size=0.2,\n",
        "                                                          stratify=targets)"
      ],
      "metadata": {
        "id": "I9Wa7MxHIEAz"
      },
      "execution_count": null,
      "outputs": []
    },
    {
      "cell_type": "code",
      "source": [
        "train_test_split?"
      ],
      "metadata": {
        "id": "ulMo42V-DTUG"
      },
      "execution_count": null,
      "outputs": []
    },
    {
      "cell_type": "markdown",
      "source": [
        "# TF-IDF Encoding"
      ],
      "metadata": {
        "id": "S_bGWhyeIGTL"
      }
    },
    {
      "cell_type": "code",
      "source": [
        "tfidf = TfidfVectorizer(\n",
        "    lowercase=True,\n",
        "    stop_words='english',\n",
        "    min_df = 10,\n",
        "    max_features=5000,\n",
        "    token_pattern=r'[a-z]+'\n",
        ")"
      ],
      "metadata": {
        "id": "sy_FCTANOGVJ"
      },
      "execution_count": null,
      "outputs": []
    },
    {
      "cell_type": "code",
      "source": [
        "X_train = tfidf.fit_transform(docs_train)\n",
        "X_test = tfidf.transform(docs_test)"
      ],
      "metadata": {
        "id": "vJtQfcmWOdKK"
      },
      "execution_count": null,
      "outputs": []
    },
    {
      "cell_type": "markdown",
      "source": [
        "# Train the model"
      ],
      "metadata": {
        "id": "Jd40ayNaJr-f"
      }
    },
    {
      "cell_type": "code",
      "source": [
        "from sklearn.neighbors import KNeighborsClassifier"
      ],
      "metadata": {
        "id": "Y7U5yGH-JrT5"
      },
      "execution_count": null,
      "outputs": []
    },
    {
      "cell_type": "code",
      "source": [
        "from sklearn.metrics import (accuracy_score,\n",
        "                             recall_score,\n",
        "                             precision_score,\n",
        "                             f1_score,\n",
        "                             confusion_matrix)"
      ],
      "metadata": {
        "id": "rjTme406J_tR"
      },
      "execution_count": null,
      "outputs": []
    },
    {
      "cell_type": "code",
      "source": [
        "def score(k, y_train, y_test, y_train_pred, y_test_pred):\n",
        "    return {\n",
        "            'k': k,\n",
        "            'accuracy_train': accuracy_score(y_train_pred, y_train),\n",
        "            'accuracy_test': accuracy_score(y_test_pred, y_test),\n",
        "            'recall_train': recall_score(y_train_pred, y_train),\n",
        "            'recall_test': recall_score(y_test_pred, y_test),\n",
        "            'precision_train': precision_score(y_train_pred, y_train),\n",
        "            'precision_test':precision_score(y_test_pred, y_test),\n",
        "            'f1_train': f1_score(y_train_pred, y_train),\n",
        "            'f1_test': f1_score(y_test_pred, y_test),\n",
        "            'cm_train': confusion_matrix(y_train_pred, y_train),\n",
        "            'cm_test': confusion_matrix(y_test_pred, y_test),\n",
        "        }\n"
      ],
      "metadata": {
        "id": "g_N4tj7AMgMm"
      },
      "execution_count": null,
      "outputs": []
    },
    {
      "cell_type": "code",
      "source": [
        "%%time\n",
        "\n",
        "from tqdm.auto import tqdm\n",
        "\n",
        "\n",
        "K_list = list(range(2,100))\n",
        "\n",
        "results = []\n",
        "\n",
        "for k in tqdm(K_list):\n",
        "    knn = KNeighborsClassifier(n_neighbors=k, metric='cosine')\n",
        "    knn.fit(X_train, y_train)\n",
        "    y_train_pred = knn.predict(X_train)\n",
        "    y_test_pred = knn.predict(X_test)\n",
        "    results.append(score(k, y_train, y_test, y_train_pred, y_test_pred))\n",
        "\n"
      ],
      "metadata": {
        "id": "AECNm0XyPbYy",
        "colab": {
          "base_uri": "https://localhost:8080/",
          "height": 85,
          "referenced_widgets": [
            "a9e733e31b6a476183e2285d6dbe82a8",
            "2b8889cbc685436da056a0aa69ecb362",
            "c46d445211a74dcd93ef4251833e069e",
            "215a7398db6548ea93f7e700d8bf786c",
            "c8381cdb92ec4a6ab877eac087528846",
            "824b9c48993e4ee7843909e600c9c137",
            "82bbe801175a487f9411833b1b14083c",
            "cdaeb70465c6477591e4278c6c00f92b",
            "cdcf05778ca34f43a30acfe008c1a04b",
            "84d04396b8a7474eb3c2a250808b7c27",
            "0d9653f453f54b73a2050816f463c010"
          ]
        },
        "outputId": "7f0918e7-c74c-48cd-acab-4fbdf3c2eeef"
      },
      "execution_count": null,
      "outputs": [
        {
          "output_type": "display_data",
          "data": {
            "text/plain": [
              "  0%|          | 0/98 [00:00<?, ?it/s]"
            ],
            "application/vnd.jupyter.widget-view+json": {
              "version_major": 2,
              "version_minor": 0,
              "model_id": "a9e733e31b6a476183e2285d6dbe82a8"
            }
          },
          "metadata": {}
        },
        {
          "output_type": "stream",
          "name": "stdout",
          "text": [
            "CPU times: user 57.8 s, sys: 4.52 s, total: 1min 2s\n",
            "Wall time: 1min 9s\n"
          ]
        }
      ]
    },
    {
      "cell_type": "code",
      "source": [
        "print(f\"K \\t Acc(Train) \\t  Acc(Test) \\t Recall(Train) \\t  Recall(Test) \\t Precision(Train) \\t  Precision(Test) \\t F1(Train) \\t  F1(Test) \")\n",
        "for result in results:\n",
        "    result_string = [f\"{result[m]:.2f}\"  for m in [\n",
        "                                                    'k',\n",
        "                                                    'accuracy_train',\n",
        "                                                    'accuracy_test',\n",
        "                                                    'recall_train',\n",
        "                                                    'recall_test',\n",
        "                                                    'precision_train',\n",
        "                                                    'precision_test',\n",
        "                                                    'f1_train',\n",
        "                                                    'f1_test']]\n",
        "    result_string = '\\t\\t'.join(result_string)\n",
        "    print(f\"{ result_string }\")"
      ],
      "metadata": {
        "colab": {
          "base_uri": "https://localhost:8080/"
        },
        "id": "8XM1WhP4KAyS",
        "outputId": "3243d738-6b7c-4e06-a5ec-5782004c4680"
      },
      "execution_count": null,
      "outputs": [
        {
          "output_type": "stream",
          "name": "stdout",
          "text": [
            "K \t Acc(Train) \t  Acc(Test) \t Recall(Train) \t  Recall(Test) \t Precision(Train) \t  Precision(Test) \t F1(Train) \t  F1(Test) \n",
            "2.00\t\t0.86\t\t0.63\t\t1.00\t\t0.67\t\t0.72\t\t0.52\t\t0.84\t\t0.58\n",
            "3.00\t\t0.85\t\t0.68\t\t0.84\t\t0.67\t\t0.86\t\t0.73\t\t0.85\t\t0.70\n",
            "4.00\t\t0.81\t\t0.66\t\t0.88\t\t0.69\t\t0.71\t\t0.58\t\t0.78\t\t0.63\n",
            "5.00\t\t0.79\t\t0.66\t\t0.78\t\t0.65\t\t0.82\t\t0.71\t\t0.80\t\t0.68\n",
            "6.00\t\t0.78\t\t0.66\t\t0.82\t\t0.69\t\t0.71\t\t0.58\t\t0.76\t\t0.63\n",
            "7.00\t\t0.77\t\t0.67\t\t0.76\t\t0.65\t\t0.79\t\t0.71\t\t0.78\t\t0.68\n",
            "8.00\t\t0.75\t\t0.68\t\t0.79\t\t0.70\t\t0.69\t\t0.62\t\t0.74\t\t0.66\n",
            "9.00\t\t0.76\t\t0.69\t\t0.74\t\t0.67\t\t0.78\t\t0.74\t\t0.76\t\t0.70\n",
            "10.00\t\t0.75\t\t0.69\t\t0.78\t\t0.70\t\t0.69\t\t0.66\t\t0.73\t\t0.68\n",
            "11.00\t\t0.75\t\t0.69\t\t0.75\t\t0.67\t\t0.77\t\t0.73\t\t0.76\t\t0.70\n",
            "12.00\t\t0.75\t\t0.69\t\t0.78\t\t0.71\t\t0.69\t\t0.66\t\t0.73\t\t0.68\n",
            "13.00\t\t0.77\t\t0.69\t\t0.76\t\t0.69\t\t0.78\t\t0.69\t\t0.77\t\t0.69\n",
            "14.00\t\t0.75\t\t0.68\t\t0.79\t\t0.71\t\t0.69\t\t0.62\t\t0.74\t\t0.66\n",
            "15.00\t\t0.76\t\t0.71\t\t0.76\t\t0.71\t\t0.76\t\t0.71\t\t0.76\t\t0.71\n",
            "16.00\t\t0.75\t\t0.70\t\t0.79\t\t0.73\t\t0.68\t\t0.64\t\t0.73\t\t0.68\n",
            "17.00\t\t0.75\t\t0.69\t\t0.76\t\t0.70\t\t0.74\t\t0.68\t\t0.75\t\t0.69\n",
            "18.00\t\t0.74\t\t0.70\t\t0.79\t\t0.74\t\t0.67\t\t0.64\t\t0.73\t\t0.68\n",
            "19.00\t\t0.75\t\t0.70\t\t0.77\t\t0.71\t\t0.73\t\t0.69\t\t0.75\t\t0.70\n",
            "20.00\t\t0.75\t\t0.72\t\t0.79\t\t0.76\t\t0.68\t\t0.65\t\t0.73\t\t0.70\n",
            "21.00\t\t0.76\t\t0.72\t\t0.77\t\t0.73\t\t0.73\t\t0.69\t\t0.75\t\t0.71\n",
            "22.00\t\t0.75\t\t0.71\t\t0.80\t\t0.75\t\t0.68\t\t0.65\t\t0.73\t\t0.70\n",
            "23.00\t\t0.75\t\t0.74\t\t0.76\t\t0.75\t\t0.74\t\t0.72\t\t0.75\t\t0.74\n",
            "24.00\t\t0.74\t\t0.73\t\t0.78\t\t0.76\t\t0.68\t\t0.67\t\t0.73\t\t0.71\n",
            "25.00\t\t0.75\t\t0.74\t\t0.76\t\t0.75\t\t0.73\t\t0.72\t\t0.75\t\t0.74\n",
            "26.00\t\t0.75\t\t0.73\t\t0.79\t\t0.78\t\t0.69\t\t0.66\t\t0.74\t\t0.71\n",
            "27.00\t\t0.76\t\t0.73\t\t0.77\t\t0.75\t\t0.75\t\t0.69\t\t0.76\t\t0.72\n",
            "28.00\t\t0.76\t\t0.72\t\t0.80\t\t0.77\t\t0.70\t\t0.64\t\t0.75\t\t0.70\n",
            "29.00\t\t0.77\t\t0.74\t\t0.78\t\t0.76\t\t0.74\t\t0.69\t\t0.76\t\t0.73\n",
            "30.00\t\t0.76\t\t0.74\t\t0.80\t\t0.79\t\t0.69\t\t0.67\t\t0.74\t\t0.72\n",
            "31.00\t\t0.77\t\t0.76\t\t0.78\t\t0.79\t\t0.75\t\t0.72\t\t0.76\t\t0.75\n",
            "32.00\t\t0.76\t\t0.75\t\t0.79\t\t0.80\t\t0.69\t\t0.67\t\t0.74\t\t0.72\n",
            "33.00\t\t0.77\t\t0.75\t\t0.77\t\t0.77\t\t0.75\t\t0.71\t\t0.76\t\t0.74\n",
            "34.00\t\t0.76\t\t0.75\t\t0.79\t\t0.79\t\t0.71\t\t0.68\t\t0.75\t\t0.73\n",
            "35.00\t\t0.77\t\t0.75\t\t0.78\t\t0.77\t\t0.75\t\t0.70\t\t0.77\t\t0.74\n",
            "36.00\t\t0.76\t\t0.77\t\t0.79\t\t0.82\t\t0.70\t\t0.68\t\t0.74\t\t0.75\n",
            "37.00\t\t0.76\t\t0.76\t\t0.77\t\t0.79\t\t0.74\t\t0.71\t\t0.76\t\t0.75\n",
            "38.00\t\t0.76\t\t0.76\t\t0.79\t\t0.81\t\t0.71\t\t0.68\t\t0.74\t\t0.74\n",
            "39.00\t\t0.76\t\t0.75\t\t0.77\t\t0.77\t\t0.74\t\t0.70\t\t0.75\t\t0.74\n",
            "40.00\t\t0.76\t\t0.75\t\t0.78\t\t0.80\t\t0.71\t\t0.67\t\t0.74\t\t0.73\n",
            "41.00\t\t0.76\t\t0.74\t\t0.77\t\t0.77\t\t0.75\t\t0.69\t\t0.76\t\t0.73\n",
            "42.00\t\t0.76\t\t0.76\t\t0.79\t\t0.81\t\t0.71\t\t0.67\t\t0.75\t\t0.73\n",
            "43.00\t\t0.76\t\t0.74\t\t0.77\t\t0.78\t\t0.73\t\t0.68\t\t0.75\t\t0.73\n",
            "44.00\t\t0.76\t\t0.74\t\t0.79\t\t0.79\t\t0.69\t\t0.65\t\t0.74\t\t0.71\n",
            "45.00\t\t0.76\t\t0.74\t\t0.78\t\t0.77\t\t0.72\t\t0.69\t\t0.75\t\t0.73\n",
            "46.00\t\t0.75\t\t0.74\t\t0.79\t\t0.79\t\t0.69\t\t0.65\t\t0.73\t\t0.71\n",
            "47.00\t\t0.76\t\t0.76\t\t0.78\t\t0.79\t\t0.72\t\t0.70\t\t0.75\t\t0.74\n",
            "48.00\t\t0.75\t\t0.75\t\t0.79\t\t0.80\t\t0.68\t\t0.66\t\t0.73\t\t0.72\n",
            "49.00\t\t0.76\t\t0.74\t\t0.78\t\t0.79\t\t0.72\t\t0.67\t\t0.75\t\t0.72\n",
            "50.00\t\t0.76\t\t0.74\t\t0.79\t\t0.80\t\t0.70\t\t0.64\t\t0.74\t\t0.71\n",
            "51.00\t\t0.76\t\t0.75\t\t0.79\t\t0.78\t\t0.72\t\t0.69\t\t0.75\t\t0.73\n",
            "52.00\t\t0.76\t\t0.74\t\t0.80\t\t0.79\t\t0.69\t\t0.65\t\t0.74\t\t0.71\n",
            "53.00\t\t0.76\t\t0.74\t\t0.78\t\t0.78\t\t0.71\t\t0.68\t\t0.75\t\t0.73\n",
            "54.00\t\t0.75\t\t0.74\t\t0.79\t\t0.80\t\t0.68\t\t0.65\t\t0.73\t\t0.72\n",
            "55.00\t\t0.76\t\t0.75\t\t0.78\t\t0.78\t\t0.72\t\t0.70\t\t0.75\t\t0.74\n",
            "56.00\t\t0.76\t\t0.74\t\t0.80\t\t0.80\t\t0.69\t\t0.65\t\t0.74\t\t0.71\n",
            "57.00\t\t0.76\t\t0.76\t\t0.78\t\t0.79\t\t0.72\t\t0.69\t\t0.75\t\t0.74\n",
            "58.00\t\t0.76\t\t0.74\t\t0.79\t\t0.81\t\t0.69\t\t0.65\t\t0.74\t\t0.72\n",
            "59.00\t\t0.76\t\t0.76\t\t0.78\t\t0.80\t\t0.72\t\t0.70\t\t0.75\t\t0.74\n",
            "60.00\t\t0.76\t\t0.74\t\t0.80\t\t0.80\t\t0.69\t\t0.64\t\t0.74\t\t0.71\n",
            "61.00\t\t0.76\t\t0.76\t\t0.78\t\t0.80\t\t0.72\t\t0.69\t\t0.75\t\t0.75\n",
            "62.00\t\t0.75\t\t0.75\t\t0.80\t\t0.81\t\t0.69\t\t0.66\t\t0.74\t\t0.73\n",
            "63.00\t\t0.76\t\t0.77\t\t0.79\t\t0.82\t\t0.71\t\t0.70\t\t0.75\t\t0.76\n",
            "64.00\t\t0.76\t\t0.75\t\t0.80\t\t0.81\t\t0.69\t\t0.66\t\t0.74\t\t0.73\n",
            "65.00\t\t0.75\t\t0.76\t\t0.78\t\t0.80\t\t0.71\t\t0.69\t\t0.74\t\t0.74\n",
            "66.00\t\t0.76\t\t0.75\t\t0.80\t\t0.81\t\t0.69\t\t0.66\t\t0.74\t\t0.73\n",
            "67.00\t\t0.76\t\t0.76\t\t0.79\t\t0.80\t\t0.71\t\t0.69\t\t0.75\t\t0.74\n",
            "68.00\t\t0.76\t\t0.74\t\t0.80\t\t0.81\t\t0.69\t\t0.65\t\t0.74\t\t0.72\n",
            "69.00\t\t0.76\t\t0.75\t\t0.78\t\t0.80\t\t0.72\t\t0.68\t\t0.75\t\t0.73\n",
            "70.00\t\t0.75\t\t0.74\t\t0.80\t\t0.80\t\t0.68\t\t0.65\t\t0.74\t\t0.71\n",
            "71.00\t\t0.76\t\t0.73\t\t0.79\t\t0.77\t\t0.71\t\t0.67\t\t0.74\t\t0.71\n",
            "72.00\t\t0.75\t\t0.73\t\t0.80\t\t0.78\t\t0.67\t\t0.64\t\t0.73\t\t0.70\n",
            "73.00\t\t0.76\t\t0.74\t\t0.78\t\t0.77\t\t0.71\t\t0.67\t\t0.74\t\t0.72\n",
            "74.00\t\t0.75\t\t0.74\t\t0.79\t\t0.80\t\t0.68\t\t0.64\t\t0.73\t\t0.71\n",
            "75.00\t\t0.75\t\t0.74\t\t0.78\t\t0.78\t\t0.70\t\t0.68\t\t0.74\t\t0.73\n",
            "76.00\t\t0.75\t\t0.75\t\t0.79\t\t0.82\t\t0.68\t\t0.65\t\t0.73\t\t0.72\n",
            "77.00\t\t0.75\t\t0.76\t\t0.78\t\t0.80\t\t0.71\t\t0.68\t\t0.74\t\t0.74\n",
            "78.00\t\t0.75\t\t0.75\t\t0.79\t\t0.81\t\t0.68\t\t0.65\t\t0.73\t\t0.72\n",
            "79.00\t\t0.74\t\t0.74\t\t0.77\t\t0.79\t\t0.70\t\t0.67\t\t0.73\t\t0.72\n",
            "80.00\t\t0.75\t\t0.75\t\t0.80\t\t0.81\t\t0.68\t\t0.65\t\t0.73\t\t0.72\n",
            "81.00\t\t0.75\t\t0.76\t\t0.78\t\t0.80\t\t0.71\t\t0.68\t\t0.74\t\t0.74\n",
            "82.00\t\t0.75\t\t0.75\t\t0.79\t\t0.83\t\t0.69\t\t0.64\t\t0.73\t\t0.72\n",
            "83.00\t\t0.76\t\t0.77\t\t0.78\t\t0.82\t\t0.72\t\t0.68\t\t0.75\t\t0.75\n",
            "84.00\t\t0.75\t\t0.76\t\t0.79\t\t0.83\t\t0.69\t\t0.66\t\t0.73\t\t0.73\n",
            "85.00\t\t0.75\t\t0.77\t\t0.78\t\t0.82\t\t0.70\t\t0.69\t\t0.74\t\t0.75\n",
            "86.00\t\t0.75\t\t0.78\t\t0.79\t\t0.86\t\t0.68\t\t0.66\t\t0.73\t\t0.75\n",
            "87.00\t\t0.75\t\t0.77\t\t0.78\t\t0.82\t\t0.69\t\t0.69\t\t0.73\t\t0.75\n",
            "88.00\t\t0.75\t\t0.77\t\t0.79\t\t0.84\t\t0.68\t\t0.67\t\t0.73\t\t0.74\n",
            "89.00\t\t0.75\t\t0.77\t\t0.77\t\t0.82\t\t0.70\t\t0.68\t\t0.73\t\t0.74\n",
            "90.00\t\t0.74\t\t0.77\t\t0.78\t\t0.84\t\t0.68\t\t0.65\t\t0.73\t\t0.73\n",
            "91.00\t\t0.75\t\t0.77\t\t0.78\t\t0.83\t\t0.70\t\t0.68\t\t0.73\t\t0.75\n",
            "92.00\t\t0.75\t\t0.77\t\t0.79\t\t0.84\t\t0.68\t\t0.66\t\t0.73\t\t0.74\n",
            "93.00\t\t0.75\t\t0.78\t\t0.77\t\t0.82\t\t0.70\t\t0.70\t\t0.73\t\t0.76\n",
            "94.00\t\t0.74\t\t0.77\t\t0.78\t\t0.84\t\t0.67\t\t0.67\t\t0.72\t\t0.74\n",
            "95.00\t\t0.75\t\t0.78\t\t0.78\t\t0.84\t\t0.69\t\t0.69\t\t0.73\t\t0.76\n",
            "96.00\t\t0.75\t\t0.78\t\t0.79\t\t0.86\t\t0.68\t\t0.67\t\t0.73\t\t0.75\n",
            "97.00\t\t0.75\t\t0.78\t\t0.78\t\t0.83\t\t0.70\t\t0.69\t\t0.74\t\t0.76\n",
            "98.00\t\t0.75\t\t0.76\t\t0.79\t\t0.83\t\t0.68\t\t0.65\t\t0.73\t\t0.73\n",
            "99.00\t\t0.75\t\t0.76\t\t0.78\t\t0.82\t\t0.70\t\t0.67\t\t0.74\t\t0.73\n"
          ]
        }
      ]
    },
    {
      "cell_type": "code",
      "source": [
        "f1_max = 0\n",
        "best_classifier = None\n",
        "for result in results:\n",
        "    if result['f1_test'] > f1_max:\n",
        "        f1_max = result['f1_test']\n",
        "        best_classifier = result"
      ],
      "metadata": {
        "id": "4NrgiyKeKBTK"
      },
      "execution_count": null,
      "outputs": []
    },
    {
      "cell_type": "code",
      "source": [
        "best_classifier\n"
      ],
      "metadata": {
        "colab": {
          "base_uri": "https://localhost:8080/"
        },
        "id": "SSJ3rLnaLZqV",
        "outputId": "f8b61a42-383c-4d1c-edab-1041f6f6ce80"
      },
      "execution_count": null,
      "outputs": [
        {
          "output_type": "execute_result",
          "data": {
            "text/plain": [
              "{'k': 95,\n",
              " 'accuracy_train': 0.74625,\n",
              " 'accuracy_test': 0.78,\n",
              " 'recall_train': 0.7774647887323943,\n",
              " 'recall_test': 0.8373493975903614,\n",
              " 'precision_train': 0.69,\n",
              " 'precision_test': 0.695,\n",
              " 'f1_train': 0.7311258278145695,\n",
              " 'f1_test': 0.7595628415300545,\n",
              " 'cm_train': array([[642, 248],\n",
              "        [158, 552]]),\n",
              " 'cm_test': array([[173,  61],\n",
              "        [ 27, 139]])}"
            ]
          },
          "metadata": {},
          "execution_count": 30
        }
      ]
    },
    {
      "cell_type": "markdown",
      "source": [
        "# Curva ROC e ponto de operação"
      ],
      "metadata": {
        "id": "YdrxlTs8YZDb"
      }
    },
    {
      "cell_type": "code",
      "source": [
        "import matplotlib.pyplot as plt\n",
        "import numpy as np\n",
        "cm = best_classifier['cm_test']\n",
        "\n",
        "tn, fp, fn, tp = cm.flatten()\n",
        "plt.matshow(cm, cmap='Reds', interpolation='nearest', vmin=0, vmax=200)\n",
        "plt.colorbar()\n",
        "for (i, j), z in np.ndenumerate(cm):\n",
        "    plt.text(j, i, '{:d}'.format(z), ha='center', va='center')\n",
        "\n",
        "plt.xlabel('Predito')\n",
        "\n",
        "plt.ylabel('Real')\n",
        "\n",
        "print(f'True Negative: {tn}')\n",
        "print(f'False Negative: {fn}')\n",
        "print(f'True Positive: {tp}')\n",
        "print(f'False Positive: {fp}')"
      ],
      "metadata": {
        "id": "37UNPo2MRMdn",
        "colab": {
          "base_uri": "https://localhost:8080/",
          "height": 493
        },
        "outputId": "7ace2440-9047-4496-ce7d-8790fb2648ee"
      },
      "execution_count": null,
      "outputs": [
        {
          "output_type": "stream",
          "name": "stdout",
          "text": [
            "True Negative: 173\n",
            "False Negative: 27\n",
            "True Positive: 139\n",
            "False Positive: 61\n"
          ]
        },
        {
          "output_type": "display_data",
          "data": {
            "text/plain": [
              "<Figure size 480x480 with 2 Axes>"
            ],
            "image/png": "[encoded data removed]"
          },
          "metadata": {}
        }
      ]
    },
    {
      "cell_type": "code",
      "source": [
        "from sklearn.metrics import ConfusionMatrixDisplay\n",
        "\n",
        "ConfusionMatrixDisplay(cm).plot(cmap=\"Reds\")"
      ],
      "metadata": {
        "colab": {
          "base_uri": "https://localhost:8080/",
          "height": 467
        },
        "id": "Nx1p3W1eESS2",
        "outputId": "e74692b9-b50a-4243-8e91-7241ffe1f4e3"
      },
      "execution_count": null,
      "outputs": [
        {
          "output_type": "execute_result",
          "data": {
            "text/plain": [
              "<sklearn.metrics._plot.confusion_matrix.ConfusionMatrixDisplay at 0x7d4965254c40>"
            ]
          },
          "metadata": {},
          "execution_count": 63
        },
        {
          "output_type": "display_data",
          "data": {
            "text/plain": [
              "<Figure size 640x480 with 2 Axes>"
            ],
            "image/png": "[encoded data removed]"
          },
          "metadata": {}
        }
      ]
    },
    {
      "cell_type": "code",
      "source": [
        "k = best_classifier['k']\n",
        "knn = KNeighborsClassifier(n_neighbors=best_classifier['k'], metric='cosine')\n",
        "knn.fit(X_train, y_train)"
      ],
      "metadata": {
        "colab": {
          "base_uri": "https://localhost:8080/",
          "height": 75
        },
        "id": "0wPLwVQFEWXk",
        "outputId": "c12fd87d-9c8e-40a8-94a4-f85fe6e9a247"
      },
      "execution_count": null,
      "outputs": [
        {
          "output_type": "execute_result",
          "data": {
            "text/plain": [
              "KNeighborsClassifier(metric='cosine', n_neighbors=95)"
            ],
            "text/html": [
              "<style>#sk-container-id-2 {color: black;background-color: white;}#sk-container-id-2 pre{padding: 0;}#sk-container-id-2 div.sk-toggleable {background-color: white;}#sk-container-id-2 label.sk-toggleable__label {cursor: pointer;display: block;width: 100%;margin-bottom: 0;padding: 0.3em;box-sizing: border-box;text-align: center;}#sk-container-id-2 label.sk-toggleable__label-arrow:before {content: \"▸\";float: left;margin-right: 0.25em;color: #696969;}#sk-container-id-2 label.sk-toggleable__label-arrow:hover:before {color: black;}#sk-container-id-2 div.sk-estimator:hover label.sk-toggleable__label-arrow:before {color: black;}#sk-container-id-2 div.sk-toggleable__content {max-height: 0;max-width: 0;overflow: hidden;text-align: left;background-color: #f0f8ff;}#sk-container-id-2 div.sk-toggleable__content pre {margin: 0.2em;color: black;border-radius: 0.25em;background-color: #f0f8ff;}#sk-container-id-2 input.sk-toggleable__control:checked~div.sk-toggleable__content {max-height: 200px;max-width: 100%;overflow: auto;}#sk-container-id-2 input.sk-toggleable__control:checked~label.sk-toggleable__label-arrow:before {content: \"▾\";}#sk-container-id-2 div.sk-estimator input.sk-toggleable__control:checked~label.sk-toggleable__label {background-color: #d4ebff;}#sk-container-id-2 div.sk-label input.sk-toggleable__control:checked~label.sk-toggleable__label {background-color: #d4ebff;}#sk-container-id-2 input.sk-hidden--visually {border: 0;clip: rect(1px 1px 1px 1px);clip: rect(1px, 1px, 1px, 1px);height: 1px;margin: -1px;overflow: hidden;padding: 0;position: absolute;width: 1px;}#sk-container-id-2 div.sk-estimator {font-family: monospace;background-color: #f0f8ff;border: 1px dotted black;border-radius: 0.25em;box-sizing: border-box;margin-bottom: 0.5em;}#sk-container-id-2 div.sk-estimator:hover {background-color: #d4ebff;}#sk-container-id-2 div.sk-parallel-item::after {content: \"\";width: 100%;border-bottom: 1px solid gray;flex-grow: 1;}#sk-container-id-2 div.sk-label:hover label.sk-toggleable__label {background-color: #d4ebff;}#sk-container-id-2 div.sk-serial::before {content: \"\";position: absolute;border-left: 1px solid gray;box-sizing: border-box;top: 0;bottom: 0;left: 50%;z-index: 0;}#sk-container-id-2 div.sk-serial {display: flex;flex-direction: column;align-items: center;background-color: white;padding-right: 0.2em;padding-left: 0.2em;position: relative;}#sk-container-id-2 div.sk-item {position: relative;z-index: 1;}#sk-container-id-2 div.sk-parallel {display: flex;align-items: stretch;justify-content: center;background-color: white;position: relative;}#sk-container-id-2 div.sk-item::before, #sk-container-id-2 div.sk-parallel-item::before {content: \"\";position: absolute;border-left: 1px solid gray;box-sizing: border-box;top: 0;bottom: 0;left: 50%;z-index: -1;}#sk-container-id-2 div.sk-parallel-item {display: flex;flex-direction: column;z-index: 1;position: relative;background-color: white;}#sk-container-id-2 div.sk-parallel-item:first-child::after {align-self: flex-end;width: 50%;}#sk-container-id-2 div.sk-parallel-item:last-child::after {align-self: flex-start;width: 50%;}#sk-container-id-2 div.sk-parallel-item:only-child::after {width: 0;}#sk-container-id-2 div.sk-dashed-wrapped {border: 1px dashed gray;margin: 0 0.4em 0.5em 0.4em;box-sizing: border-box;padding-bottom: 0.4em;background-color: white;}#sk-container-id-2 div.sk-label label {font-family: monospace;font-weight: bold;display: inline-block;line-height: 1.2em;}#sk-container-id-2 div.sk-label-container {text-align: center;}#sk-container-id-2 div.sk-container {/* jupyter's `normalize.less` sets `[hidden] { display: none; }` but bootstrap.min.css set `[hidden] { display: none !important; }` so we also need the `!important` here to be able to override the default hidden behavior on the sphinx rendered scikit-learn.org. See: https://github.com/scikit-learn/scikit-learn/issues/21755 */display: inline-block !important;position: relative;}#sk-container-id-2 div.sk-text-repr-fallback {display: none;}</style><div id=\"sk-container-id-2\" class=\"sk-top-container\"><div class=\"sk-text-repr-fallback\"><pre>KNeighborsClassifier(metric=&#x27;cosine&#x27;, n_neighbors=95)</pre><b>In a Jupyter environment, please rerun this cell to show the HTML representation or trust the notebook. <br />On GitHub, the HTML representation is unable to render, please try loading this page with nbviewer.org.</b></div><div class=\"sk-container\" hidden><div class=\"sk-item\"><div class=\"sk-estimator sk-toggleable\"><input class=\"sk-toggleable__control sk-hidden--visually\" id=\"sk-estimator-id-2\" type=\"checkbox\" checked><label for=\"sk-estimator-id-2\" class=\"sk-toggleable__label sk-toggleable__label-arrow\">KNeighborsClassifier</label><div class=\"sk-toggleable__content\"><pre>KNeighborsClassifier(metric=&#x27;cosine&#x27;, n_neighbors=95)</pre></div></div></div></div></div>"
            ]
          },
          "metadata": {},
          "execution_count": 102
        }
      ]
    },
    {
      "cell_type": "code",
      "source": [
        "y_train_hat = knn.predict_proba(X_train)\n",
        "y_test_hat = knn.predict_proba(X_test)"
      ],
      "metadata": {
        "id": "tmQ216MFH4_h"
      },
      "execution_count": null,
      "outputs": []
    },
    {
      "cell_type": "code",
      "source": [
        "\n",
        "\n",
        "neg_indices = np.where(np.array(y_test) == 0)[0]\n",
        "pos_indices = np.where(np.array(y_test) == 1)[0]\n",
        "\n",
        "plt.hist(y_test_hat[neg_indices][:, 1], color='red')\n",
        "plt.hist(y_test_hat[pos_indices][:, 1], color='blue', alpha=.7)\n",
        "\n",
        "plt.xlim([0, 1])\n",
        "plt.axvline(.5, ymin=0, ymax=50, linestyle='--', c='black')\n"
      ],
      "metadata": {
        "colab": {
          "base_uri": "https://localhost:8080/",
          "height": 448
        },
        "id": "pCUyt2yMIBuJ",
        "outputId": "a14791b3-fe3b-4ea3-cebe-c6decad47232"
      },
      "execution_count": null,
      "outputs": [
        {
          "output_type": "execute_result",
          "data": {
            "text/plain": [
              "<matplotlib.lines.Line2D at 0x7d49650d3880>"
            ]
          },
          "metadata": {},
          "execution_count": 104
        },
        {
          "output_type": "display_data",
          "data": {
            "text/plain": [
              "<Figure size 640x480 with 1 Axes>"
            ],
            "image/png": "[encoded data removed]"
          },
          "metadata": {}
        }
      ]
    },
    {
      "cell_type": "code",
      "source": [
        "threshold = 0.4\n",
        "\n",
        "y_train_pred = (y_train_hat[:, 1] > threshold).astype(float)\n",
        "y_test_pred = (y_test_hat[:, 1] > threshold).astype(float)\n",
        "\n",
        "results = score(k, y_train, y_test, y_train_pred, y_test_pred)\n",
        "\n",
        "cm_test = results['cm_test']\n",
        "results"
      ],
      "metadata": {
        "colab": {
          "base_uri": "https://localhost:8080/"
        },
        "id": "rDzOCENqJu66",
        "outputId": "a1bb179d-af9a-40b1-bd5b-70b445e83a88"
      },
      "execution_count": null,
      "outputs": [
        {
          "output_type": "execute_result",
          "data": {
            "text/plain": [
              "{'k': 95,\n",
              " 'accuracy_train': 0.680625,\n",
              " 'accuracy_test': 0.6975,\n",
              " 'recall_train': 0.619520264681555,\n",
              " 'recall_test': 0.6348122866894198,\n",
              " 'precision_train': 0.93625,\n",
              " 'precision_test': 0.93,\n",
              " 'f1_train': 0.7456445993031359,\n",
              " 'f1_test': 0.7545638945233266,\n",
              " 'cm_train': array([[340,  51],\n",
              "        [460, 749]]),\n",
              " 'cm_test': array([[ 93,  14],\n",
              "        [107, 186]])}"
            ]
          },
          "metadata": {},
          "execution_count": 112
        }
      ]
    },
    {
      "cell_type": "code",
      "source": [
        "ConfusionMatrixDisplay(cm_test).plot(cmap=\"Reds\")"
      ],
      "metadata": {
        "colab": {
          "base_uri": "https://localhost:8080/",
          "height": 467
        },
        "id": "DmlaoaMHLXoh",
        "outputId": "4b223fd3-6ffd-4f0e-dfa0-29ea55051e4f"
      },
      "execution_count": null,
      "outputs": [
        {
          "output_type": "execute_result",
          "data": {
            "text/plain": [
              "<sklearn.metrics._plot.confusion_matrix.ConfusionMatrixDisplay at 0x7d4965118850>"
            ]
          },
          "metadata": {},
          "execution_count": 113
        },
        {
          "output_type": "display_data",
          "data": {
            "text/plain": [
              "<Figure size 640x480 with 2 Axes>"
            ],
            "image/png": "[encoded data removed]"
          },
          "metadata": {}
        }
      ]
    },
    {
      "cell_type": "code",
      "source": [
        "from sklearn.metrics import RocCurveDisplay, roc_auc_score, roc_curve\n",
        "\n",
        "fpr, tpr, thresholds = roc_curve(y_test, y_test_hat[:, 1])\n",
        "roc_auc = roc_auc_score(y_test, y_test_hat[:, 1])\n"
      ],
      "metadata": {
        "id": "GIMaX623QHs-"
      },
      "execution_count": null,
      "outputs": []
    },
    {
      "cell_type": "code",
      "source": [
        "f1_array = []\n",
        "f1_max = 0\n",
        "thr_ = thresholds[0]\n",
        "\n",
        "for idx, threshold in enumerate(thresholds[1:]):\n",
        "    y_test_pred = (y_test_hat[:, 1] > threshold).astype(float)\n",
        "    f1 = f1_score(y_test, y_test_pred)\n",
        "    f1_array.append(f1)\n",
        "    if f1 > f1_max:\n",
        "\n",
        "        f1_max = f1\n",
        "        thr_ = threshold\n",
        "        idx_max = idx\n",
        "print( f\"{thr_} : {f1_max:.2f}\")"
      ],
      "metadata": {
        "colab": {
          "base_uri": "https://localhost:8080/"
        },
        "id": "UeVbhSx-QKuh",
        "outputId": "cb68d20b-24fa-4400-b417-ba48084f4ab6"
      },
      "execution_count": null,
      "outputs": [
        {
          "output_type": "stream",
          "name": "stdout",
          "text": [
            "0.47368421052631576 : 0.78\n"
          ]
        }
      ]
    },
    {
      "cell_type": "code",
      "source": [
        "\n",
        "\n",
        "display = RocCurveDisplay(fpr=fpr, tpr=tpr, roc_auc=roc_auc)\n",
        "\n",
        "display.plot()\n",
        "\n",
        "plt.plot(fpr[idx_max+1], tpr[idx_max+1], 'o', color='red', ms=10)\n",
        "plt.grid()"
      ],
      "metadata": {
        "colab": {
          "base_uri": "https://localhost:8080/",
          "height": 449
        },
        "id": "ft7OSbayM9t6",
        "outputId": "d507ecc0-2ea4-4b1d-fb21-bb66c13b8c15"
      },
      "execution_count": null,
      "outputs": [
        {
          "output_type": "display_data",
          "data": {
            "text/plain": [
              "<Figure size 640x480 with 1 Axes>"
            ],
            "image/png": "[encoded data removed]"
          },
          "metadata": {}
        }
      ]
    },
    {
      "cell_type": "code",
      "source": [
        "neg_indices = np.where(np.array(y_test) == 0)[0]\n",
        "pos_indices = np.where(np.array(y_test) == 1)[0]\n",
        "\n",
        "plt.hist(y_test_hat[neg_indices][:, 1], color='red', alpha=.5)\n",
        "plt.hist(y_test_hat[pos_indices][:, 1], color='blue', alpha=.3)\n",
        "\n",
        "plt.xlim([0, 1])\n",
        "plt.axvline(thr_, ymin=0, ymax=50, linestyle='--', c='black', lw=3)"
      ],
      "metadata": {
        "colab": {
          "base_uri": "https://localhost:8080/",
          "height": 448
        },
        "id": "6xEmrSbrOJXi",
        "outputId": "e3db90b3-0455-4d72-ecdf-548381313916"
      },
      "execution_count": null,
      "outputs": [
        {
          "output_type": "execute_result",
          "data": {
            "text/plain": [
              "<matplotlib.lines.Line2D at 0x7d4964184280>"
            ]
          },
          "metadata": {},
          "execution_count": 135
        },
        {
          "output_type": "display_data",
          "data": {
            "text/plain": [
              "<Figure size 640x480 with 1 Axes>"
            ],
            "image/png": "[encoded data removed]"
          },
          "metadata": {}
        }
      ]
    },
    {
      "cell_type": "code",
      "source": [
        "idx = 38\n",
        "\n",
        "thr_ = thresholds[idx]\n",
        "\n",
        "\n",
        "display = RocCurveDisplay(fpr=fpr, tpr=tpr, roc_auc=roc_auc)\n",
        "\n",
        "display.plot()\n",
        "\n",
        "plt.plot(fpr[idx+1], tpr[idx+1], 'o', color='red', ms=10)\n",
        "plt.grid()\n",
        "print(f\"{f1_array[idx]:.2f}\")"
      ],
      "metadata": {
        "colab": {
          "base_uri": "https://localhost:8080/",
          "height": 467
        },
        "id": "jKpxeVQ-OS4i",
        "outputId": "3c30128a-b0c8-42d2-e36d-4e41eeec61b0"
      },
      "execution_count": null,
      "outputs": [
        {
          "output_type": "stream",
          "name": "stdout",
          "text": [
            "0.69\n"
          ]
        },
        {
          "output_type": "display_data",
          "data": {
            "text/plain": [
              "<Figure size 640x480 with 1 Axes>"
            ],
            "image/png": "[encoded data removed]"
          },
          "metadata": {}
        }
      ]
    },
    {
      "cell_type": "code",
      "source": [
        "neg_indices = np.where(np.array(y_test) == 0)[0]\n",
        "pos_indices = np.where(np.array(y_test) == 1)[0]\n",
        "\n",
        "plt.hist(y_test_hat[neg_indices][:, 1], color='red', alpha=.5)\n",
        "plt.hist(y_test_hat[pos_indices][:, 1], color='blue', alpha=.3)\n",
        "\n",
        "plt.xlim([0, 1])\n",
        "plt.axvline(thr_, ymin=0, ymax=50, linestyle='--', c='black', lw=3)\n",
        "ax2 = plt.gca().twinx()\n",
        "ax2.plot(thresholds[1:], f1_array)\n",
        "plt.grid()"
      ],
      "metadata": {
        "colab": {
          "base_uri": "https://localhost:8080/",
          "height": 430
        },
        "id": "xjCVY6WER-6h",
        "outputId": "b1771bdc-c610-4161-b15e-ca468b0097c1"
      },
      "execution_count": null,
      "outputs": [
        {
          "output_type": "display_data",
          "data": {
            "text/plain": [
              "<Figure size 640x480 with 2 Axes>"
            ],
            "image/png": "[encoded data removed]"
          },
          "metadata": {}
        }
      ]
    },
    {
      "cell_type": "markdown",
      "source": [
        "# Validação Cruzada"
      ],
      "metadata": {
        "id": "vQTETlC3Ygts"
      }
    },
    {
      "cell_type": "code",
      "source": [
        "from sklearn.model_selection import KFold\n",
        "from copy import deepcopy"
      ],
      "metadata": {
        "id": "3hz_zmIfTEfh"
      },
      "execution_count": null,
      "outputs": []
    },
    {
      "cell_type": "code",
      "source": [
        "n_splits = 5\n",
        "\n",
        "kfolds = KFold(n_splits = n_splits)\n",
        "\n",
        "n_neighbors = 95\n",
        "\n",
        "results = []\n",
        "X_train = X_train\n",
        "y_train = np.array(y_train)\n",
        "\n",
        "for train_index, validation_idx in tqdm(kfolds.split(X_train)):\n",
        "    knn = KNeighborsClassifier(n_neighbors=n_neighbors, metric='cosine')\n",
        "\n",
        "    X_train_ = X_train[train_index]\n",
        "    y_train_ = y_train[train_index]\n",
        "    X_val = X_train[validation_idx]\n",
        "    y_val = y_train[validation_idx]\n",
        "    knn.fit(X_train_, y_train_)\n",
        "    y_train_pred = knn.predict(X_train_)\n",
        "    y_val_pred = knn.predict(X_val)\n",
        "    result = score(k, y_train_, y_val, y_train_pred, y_val_pred)\n",
        "    result['model'] = deepcopy(knn)\n",
        "    keys_to_delete = []\n",
        "    result_val = {}\n",
        "    for key, value in result.items():\n",
        "        if '_test' in key:\n",
        "            result_val[key.replace('_test', '_val')] = value\n",
        "            keys_to_delete.append(key)\n",
        "\n",
        "    for key in keys_to_delete:\n",
        "        del result[key]\n",
        "    result.update(result_val)\n",
        "\n",
        "    results.append(result)\n",
        "\n",
        "\n"
      ],
      "metadata": {
        "colab": {
          "base_uri": "https://localhost:8080/",
          "height": 49,
          "referenced_widgets": [
            "ad106889f44c4edf930937dfd0977f93",
            "cc3e24b3fc784505b27cd37917cea1e6",
            "6d990161fd734ec488265851ade4a96f",
            "fc275e9b36624f55a0581f1373df222f",
            "1603752f27cb45aab2ee565c894ff6ca",
            "6990b1d9b2ea42469a15b690dec1aac1",
            "3abf89f3f2804b359f1385883abbb516",
            "cdf918d17a004e2f8e5fe62c8b5d18b3",
            "053c0c2d807147ac893d6753e83e0f7d",
            "c07d934c884d45ea820361099cd7dfa8",
            "d19410f4521c4e0ba5c91926385ebbb3"
          ]
        },
        "id": "dbOh2XcWYoRn",
        "outputId": "78f2a31d-1246-4bbf-9cb6-adccfe34c26d"
      },
      "execution_count": null,
      "outputs": [
        {
          "output_type": "display_data",
          "data": {
            "text/plain": [
              "0it [00:00, ?it/s]"
            ],
            "application/vnd.jupyter.widget-view+json": {
              "version_major": 2,
              "version_minor": 0,
              "model_id": "ad106889f44c4edf930937dfd0977f93"
            }
          },
          "metadata": {}
        }
      ]
    },
    {
      "cell_type": "code",
      "source": [
        "scores_test_list = [\"precision_val\", \"recall_val\", \"accuracy_val\", \"f1_val\"]\n",
        "\n",
        "print(\"My model is: \")\n",
        "for s in scores_test_list:\n",
        "    scores = []\n",
        "    for result in results:\n",
        "        scores.append(result[s])\n",
        "    print(f\"{s}: {np.mean(scores):.2f} ± {np.std(scores):.2f}\")"
      ],
      "metadata": {
        "colab": {
          "base_uri": "https://localhost:8080/"
        },
        "id": "j3SznZUZaYI-",
        "outputId": "b3a59442-c5c5-423e-a64a-7dbb38b49846"
      },
      "execution_count": null,
      "outputs": [
        {
          "output_type": "stream",
          "name": "stdout",
          "text": [
            "My model is: \n",
            "precision_val: 0.69 ± 0.06\n",
            "recall_val: 0.77 ± 0.03\n",
            "accuracy_val: 0.74 ± 0.02\n",
            "f1_val: 0.72 ± 0.03\n"
          ]
        }
      ]
    },
    {
      "cell_type": "code",
      "source": [
        "f1_list = []\n",
        "f1_max = 0\n",
        "for result in results:\n",
        "    f1_list.append(result[\"f1_val\"])\n",
        "\n",
        "idx_max = np.argmax(f1_list)\n",
        "\n",
        "best_model = results[idx_max]['model']\n",
        "\n",
        "y_test_pred = best_model.predict(X_test)\n",
        "\n",
        "score(k, y_train_, y_test, y_train_pred, y_test_pred)"
      ],
      "metadata": {
        "colab": {
          "base_uri": "https://localhost:8080/"
        },
        "id": "XXJbXcLxbvn7",
        "outputId": "169c7ee5-ef52-43c9-a06c-0e41a8353f78"
      },
      "execution_count": null,
      "outputs": [
        {
          "output_type": "execute_result",
          "data": {
            "text/plain": [
              "{'k': 95,\n",
              " 'accuracy_train': 0.75546875,\n",
              " 'accuracy_test': 0.75,\n",
              " 'recall_train': 0.7691056910569106,\n",
              " 'recall_test': 0.7840909090909091,\n",
              " 'precision_train': 0.734472049689441,\n",
              " 'precision_test': 0.69,\n",
              " 'f1_train': 0.7513899920571883,\n",
              " 'f1_test': 0.7340425531914891,\n",
              " 'cm_train': array([[494, 171],\n",
              "        [142, 473]]),\n",
              " 'cm_test': array([[162,  62],\n",
              "        [ 38, 138]])}"
            ]
          },
          "metadata": {},
          "execution_count": 187
        }
      ]
    },
    {
      "cell_type": "code",
      "source": [],
      "metadata": {
        "id": "33-rAFoKetMY"
      },
      "execution_count": null,
      "outputs": []
    }
  ]
}